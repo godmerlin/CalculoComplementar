{
 "cells": [
  {
   "cell_type": "code",
   "execution_count": 6,
   "metadata": {},
   "outputs": [
    {
     "name": "stdout",
     "output_type": "stream",
     "text": [
      "Analise Marginal: 2100\n",
      "Taxa de Variação: 2069\n"
     ]
    }
   ],
   "source": [
    "#Philipe Soares Fernandes\n",
    "\n",
    "\n",
    "import numpy as np\n",
    "import pylab as plt\n",
    "import sympy as sp\n",
    "\n",
    "x1, y1, z1 = sp.symbols('x y z')\n",
    "\n",
    "f = 1200*x1+ 500*y1 + (x1**2)*y1 - (x1**3) - y1**2\n",
    "\n",
    "derivada = sp.diff(f,x1)\n",
    "\n",
    "z = lambda x, y: eval(str(derivada))\n",
    "\n",
    "print('Analise Marginal:', z(30,60))\n",
    "\n",
    "fx = lambda x, y: 1200*x + 500*y + (x**2)*y - (x**3) - y**2\n",
    "\n",
    "print('Taxa de Variação:', fx(30+1, 60) - fx(30,60))\n",
    "\n",
    "# \n",
    "# A taxa de variação significa que para cada unidade de x será mudada 2069 unidades de y"
   ]
  },
  {
   "cell_type": "code",
   "execution_count": 10,
   "metadata": {},
   "outputs": [
    {
     "name": "stdout",
     "output_type": "stream",
     "text": [
      "6800 - 800*x\n",
      "-400\n"
     ]
    }
   ],
   "source": [
    "# Questão 2\n",
    "\n",
    "import numpy as np\n",
    "import pylab as plt\n",
    "import sympy as sp\n",
    "x = sp.symbols('x')\n",
    "\n",
    "d = sp.diff(-(400*(x**2)) + (6800*x) - (12000), x)\n",
    "print(d)\n",
    "\n",
    "a = 6800 - 800*(9) \n",
    "\n",
    "print(a)\n",
    "\n",
    "# Com a inclinação sendo -400, significa que a inclinação é para baixo \n",
    "# Logo, para um nível de produção de 9000 unidades, o lucro diminui quando a produção aumenta"
   ]
  },
  {
   "cell_type": "code",
   "execution_count": 9,
   "metadata": {},
   "outputs": [
    {
     "name": "stdout",
     "output_type": "stream",
     "text": [
      "0.012961333555455532\n",
      "0.006782365086759479\n",
      "0.0004559273231530478\n"
     ]
    }
   ],
   "source": [
    "#Questão 3\n",
    "fw = lambda w,h: (0.00306*w**(-0.575)) * h**0.725\n",
    "fh = lambda w,h: 0.00522*w**0.425 * h**(-0.275)\n",
    "\n",
    "print(fw(50,163))\n",
    "print(fh(50,163))\n",
    "\n",
    "f1 = lambda w,h: (0.0072*w**0.425)*(h**0.725)\n",
    "\n",
    "\n",
    "print(f1(35,1.20)-f1(34,1.20))"
   ]
  },
  {
   "cell_type": "code",
   "execution_count": null,
   "metadata": {},
   "outputs": [],
   "source": []
  }
 ],
 "metadata": {
  "kernelspec": {
   "display_name": "Python 3",
   "language": "python",
   "name": "python3"
  },
  "language_info": {
   "codemirror_mode": {
    "name": "ipython",
    "version": 3
   },
   "file_extension": ".py",
   "mimetype": "text/x-python",
   "name": "python",
   "nbconvert_exporter": "python",
   "pygments_lexer": "ipython3",
   "version": "3.6.8"
  }
 },
 "nbformat": 4,
 "nbformat_minor": 2
}
